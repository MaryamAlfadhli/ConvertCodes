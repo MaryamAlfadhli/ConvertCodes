{
 "cells": [
  {
   "cell_type": "code",
   "execution_count": null,
   "id": "5db025d4",
   "metadata": {},
   "outputs": [],
   "source": [
    "import json\n",
    "import csv\n",
    "import os\n",
    "\n",
    "# Set the input and output paths\n",
    "input_path = '//'\n",
    "output_path = '//'\n",
    "output_filename = 'fileName.csv'\n",
    "import geopandas as gpd\n",
    "\n",
    "# Path to the GeoJSON file\n",
    "geojson_path = '//fileName.geojson'\n",
    "\n",
    "# Path to save the CSV file\n",
    "csv_output_path = \"/fileName.csv\"\n",
    "\n",
    "# Read the GeoJSON file using GeoPandas\n",
    "gdf = gpd.read_file(geojson_path)\n",
    "\n",
    "# Export to CSV\n",
    "gdf.to_csv(csv_output_path, index=False)\n",
    "\n",
    "print(f\"GeoJSON has been successfully converted to CSV at {csv_output_path}.\")\n"
   ]
  }
 ],
 "metadata": {
  "kernelspec": {
   "display_name": "Python 3 (ipykernel)",
   "language": "python",
   "name": "python3"
  },
  "language_info": {
   "codemirror_mode": {
    "name": "ipython",
    "version": 3
   },
   "file_extension": ".py",
   "mimetype": "text/x-python",
   "name": "python",
   "nbconvert_exporter": "python",
   "pygments_lexer": "ipython3",
   "version": "3.9.12"
  }
 },
 "nbformat": 4,
 "nbformat_minor": 5
}
